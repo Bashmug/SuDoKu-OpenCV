{
 "cells": [
  {
   "cell_type": "markdown",
   "metadata": {},
   "source": [
    "#### Functions to check if a digit is placed in that particular row, column or box."
   ]
  },
  {
   "cell_type": "code",
   "execution_count": 1,
   "metadata": {
    "collapsed": true
   },
   "outputs": [],
   "source": [
    "def used_in_row(arr, row, num):\n",
    "    for i in range(9):\n",
    "        if(arr[row][i] == num):\n",
    "            return True\n",
    "    return False\n",
    "\n",
    "def used_in_col(arr, col, num):\n",
    "    for i in range(9):\n",
    "        if(arr[i][col] == num):\n",
    "            return True\n",
    "    return False\n",
    "\n",
    "# possible row inputs = 0, 3, 6\n",
    "# possible col inputs = 0, 3, 6\n",
    "def used_in_small_box(arr, row, col, num):\n",
    "    for i in range(3):\n",
    "        for j in range(3):\n",
    "            if(arr[i + row][j + col] == num):\n",
    "                return True\n",
    "    return False"
   ]
  },
  {
   "cell_type": "markdown",
   "metadata": {},
   "source": [
    "#### Check if the place is safe for the digit or not.\n",
    "\n",
    "Is the digit repeated in the column, row or box?"
   ]
  },
  {
   "cell_type": "code",
   "execution_count": 2,
   "metadata": {
    "collapsed": true
   },
   "outputs": [],
   "source": [
    "# num is NOT placed in current row, current col, current box\n",
    "def check_location_is_safe(arr, row, col, num):\n",
    "    return not(used_in_col(arr, col, num)) and not(used_in_row(arr, row, num)) and not(used_in_small_box(arr, row - row%3, col - col%3, num)) "
   ]
  },
  {
   "cell_type": "markdown",
   "metadata": {},
   "source": []
  },
  {
   "cell_type": "code",
   "execution_count": 3,
   "metadata": {
    "collapsed": true
   },
   "outputs": [],
   "source": [
    "def solve_sudoku(arr):\n",
    "    # row and column\n",
    "    l=[0, 0]\n",
    "    \n",
    "    # No Unassigned place\n",
    "    if(find_empty_location(arr, l) == False):\n",
    "        return True\n",
    "    \n",
    "    row = l[0]\n",
    "    col = l[1]\n",
    "    \n",
    "    for num in range(1, 10):\n",
    "        \n",
    "        if(check_location_is_safe(arr, row, col, num)):         \n",
    "            arr[row][col] = num\n",
    "            \n",
    "            if(solve_sudoku(arr)):\n",
    "                return True\n",
    "            \n",
    "            # if False ---> Reset to 0\n",
    "            arr[row][col] = 0\n",
    "    \n",
    "    return False"
   ]
  },
  {
   "cell_type": "markdown",
   "metadata": {},
   "source": [
    "###### Check if a particular location is empty or not"
   ]
  },
  {
   "cell_type": "code",
   "execution_count": 4,
   "metadata": {
    "collapsed": true
   },
   "outputs": [],
   "source": [
    "def find_empty_location(arr, l):\n",
    "    for row in range(9):\n",
    "        for col in range(9):\n",
    "            if(arr[row][col] == 0):\n",
    "                l[0] = row\n",
    "                l[1] = col\n",
    "                return True\n",
    "    return False"
   ]
  },
  {
   "cell_type": "markdown",
   "metadata": {},
   "source": [
    "### Main Function\n",
    "Driver main function to test above functions\n",
    "\n",
    "Sending the grid to *solve_sudoku()* function"
   ]
  },
  {
   "cell_type": "code",
   "execution_count": 5,
   "metadata": {},
   "outputs": [
    {
     "name": "stdout",
     "output_type": "stream",
     "text": [
      "*****OUTPUT******\n",
      "9 4 7 2 3 1 6 5 8\n",
      "3 6 8 4 9 5 1 7 2\n",
      "5 2 1 8 7 6 9 3 4\n",
      "1 3 4 9 5 2 7 8 6\n",
      "2 7 9 6 8 4 5 1 3\n",
      "8 5 6 3 1 7 4 2 9\n",
      "6 1 3 5 2 9 8 4 7\n",
      "7 9 2 1 4 8 3 6 5\n",
      "4 8 5 7 6 3 2 9 1\n"
     ]
    }
   ],
   "source": [
    "def print_grid(arr):\n",
    "    print ('*'*5)+'OUTPUT'+('*'*6)\n",
    "    for i in range(9):\n",
    "        for j in range(9):\n",
    "            print arr[i][j],\n",
    "        print\n",
    "\n",
    "grid = [[0, 4, 7, 0, 0, 1, 6, 0, 8],\n",
    "       [3, 0, 8, 0, 9, 0, 0, 7, 0],\n",
    "       [0, 2, 1, 8, 7, 0, 0, 3, 0],\n",
    "       [0, 0, 4, 0, 5, 0, 0, 8, 0],\n",
    "       [0, 0, 0, 6, 0, 4, 0, 0, 0],\n",
    "       [0, 5, 0, 0, 1, 0, 4, 0, 0],\n",
    "       [0, 1, 0, 0, 2, 9, 8, 4, 0],\n",
    "       [0, 9, 0, 0, 4, 0, 3, 0, 5],\n",
    "       [4, 0, 5, 7, 0, 0, 2, 9, 0]]\n",
    "\n",
    "# if sucess print the grid\n",
    "if(solve_sudoku(grid)):\n",
    "    print_grid(grid)\n",
    "else:\n",
    "    print \"NA\""
   ]
  }
 ],
 "metadata": {
  "kernelspec": {
   "display_name": "Python 2",
   "language": "python",
   "name": "python2"
  },
  "language_info": {
   "codemirror_mode": {
    "name": "ipython",
    "version": 2
   },
   "file_extension": ".py",
   "mimetype": "text/x-python",
   "name": "python",
   "nbconvert_exporter": "python",
   "pygments_lexer": "ipython2",
   "version": "2.7.12"
  }
 },
 "nbformat": 4,
 "nbformat_minor": 2
}
