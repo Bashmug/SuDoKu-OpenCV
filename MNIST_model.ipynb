{
 "cells": [
  {
   "cell_type": "markdown",
   "metadata": {},
   "source": [
    "#### Import the dependencies"
   ]
  },
  {
   "cell_type": "code",
   "execution_count": 1,
   "metadata": {},
   "outputs": [
    {
     "name": "stderr",
     "output_type": "stream",
     "text": [
      "Using TensorFlow backend.\n"
     ]
    }
   ],
   "source": [
    "import numpy as np\n",
    "import matplotlib.pyplot as plt\n",
    "%matplotlib inline\n",
    "import pandas as pd\n",
    "\n",
    "from keras.layers import Activation, MaxPooling2D, Dense, Dropout, Reshape, Flatten\n",
    "from keras.models import Sequential\n",
    "from keras.utils import np_utils"
   ]
  },
  {
   "cell_type": "markdown",
   "metadata": {},
   "source": [
    "Import the MNIST data from kaggle"
   ]
  },
  {
   "cell_type": "code",
   "execution_count": 2,
   "metadata": {
    "collapsed": true
   },
   "outputs": [],
   "source": [
    "ds = pd.read_csv('/home/pranav/Datasets/MNIST/train.csv')\n",
    "data = ds.values"
   ]
  },
  {
   "cell_type": "markdown",
   "metadata": {},
   "source": [
    "#### Split the dataset\n",
    "Training data consists of 80% rows\n",
    "Testing data consists of 20%"
   ]
  },
  {
   "cell_type": "code",
   "execution_count": 3,
   "metadata": {},
   "outputs": [
    {
     "name": "stdout",
     "output_type": "stream",
     "text": [
      "(33600, 784) (33600, 10)\n",
      "(8400, 784) (8400, 10)\n"
     ]
    }
   ],
   "source": [
    "# Split an Normalize the data\n",
    "split = int(0.8 * data.shape[0])\n",
    "\n",
    "X_train = data[:split, 1:]/255.0\n",
    "y_train = np_utils.to_categorical(data[:split, 0])\n",
    "\n",
    "X_test = data[split:, 1:]/255.0\n",
    "y_test = np_utils.to_categorical(data[split:, 0])\n",
    "\n",
    "print X_train.shape, y_train.shape\n",
    "print X_test.shape, y_test.shape"
   ]
  },
  {
   "cell_type": "markdown",
   "metadata": {},
   "source": [
    "## Feed Forward Model Using Keras"
   ]
  },
  {
   "cell_type": "code",
   "execution_count": 4,
   "metadata": {},
   "outputs": [
    {
     "name": "stdout",
     "output_type": "stream",
     "text": [
      "_________________________________________________________________\n",
      "Layer (type)                 Output Shape              Param #   \n",
      "=================================================================\n",
      "dense_1 (Dense)              (None, 512)               401920    \n",
      "_________________________________________________________________\n",
      "activation_1 (Activation)    (None, 512)               0         \n",
      "_________________________________________________________________\n",
      "dropout_1 (Dropout)          (None, 512)               0         \n",
      "_________________________________________________________________\n",
      "dense_2 (Dense)              (None, 180)               92340     \n",
      "_________________________________________________________________\n",
      "activation_2 (Activation)    (None, 180)               0         \n",
      "_________________________________________________________________\n",
      "dropout_2 (Dropout)          (None, 180)               0         \n",
      "_________________________________________________________________\n",
      "dense_3 (Dense)              (None, 10)                1810      \n",
      "_________________________________________________________________\n",
      "activation_3 (Activation)    (None, 10)                0         \n",
      "=================================================================\n",
      "Total params: 496,070\n",
      "Trainable params: 496,070\n",
      "Non-trainable params: 0\n",
      "_________________________________________________________________\n"
     ]
    }
   ],
   "source": [
    "model = Sequential()\n",
    "\n",
    "model.add(Dense(512, input_shape=(784, )))\n",
    "model.add(Activation('relu'))\n",
    "model.add(Dropout(0.5))\n",
    "\n",
    "model.add(Dense(180))\n",
    "model.add(Activation('relu'))\n",
    "model.add(Dropout(0.5))\n",
    "\n",
    "model.add(Dense(10))\n",
    "model.add(Activation('softmax'))\n",
    "model.summary()"
   ]
  },
  {
   "cell_type": "code",
   "execution_count": 5,
   "metadata": {
    "collapsed": true
   },
   "outputs": [],
   "source": [
    "model.compile(loss = 'categorical_crossentropy', optimizer='adam', metrics = ['accuracy'])"
   ]
  },
  {
   "cell_type": "code",
   "execution_count": 8,
   "metadata": {},
   "outputs": [
    {
     "name": "stdout",
     "output_type": "stream",
     "text": [
      "Train on 33600 samples, validate on 8400 samples\n",
      "Epoch 1/5\n",
      "33600/33600 [==============================] - 5s - loss: 0.0260 - acc: 0.9917 - val_loss: 0.0883 - val_acc: 0.9818\n",
      "Epoch 2/5\n",
      "33600/33600 [==============================] - 5s - loss: 0.0232 - acc: 0.9927 - val_loss: 0.0900 - val_acc: 0.9818\n",
      "Epoch 3/5\n",
      "33600/33600 [==============================] - 5s - loss: 0.0231 - acc: 0.9922 - val_loss: 0.0961 - val_acc: 0.9802\n",
      "Epoch 4/5\n",
      "33600/33600 [==============================] - 5s - loss: 0.0238 - acc: 0.9926 - val_loss: 0.1004 - val_acc: 0.9804\n",
      "Epoch 5/5\n",
      "33600/33600 [==============================] - 5s - loss: 0.0311 - acc: 0.9907 - val_loss: 0.0981 - val_acc: 0.9801\n"
     ]
    }
   ],
   "source": [
    "hist = model.fit(X_train, y_train,\n",
    "                 epochs = 5,\n",
    "                 shuffle = True,\n",
    "                 batch_size=128,\n",
    "                 validation_data=(X_test, y_test)\n",
    "                 )"
   ]
  },
  {
   "cell_type": "markdown",
   "metadata": {},
   "source": [
    "###### Save the model in h5 format"
   ]
  },
  {
   "cell_type": "code",
   "execution_count": 9,
   "metadata": {
    "collapsed": true
   },
   "outputs": [],
   "source": [
    "from keras.models import load_model\n",
    "import h5py\n",
    "\n",
    "model.save('./training_models/NN_digit.h5') # creates a HDF5 file 'NN_digit.h5'"
   ]
  }
 ],
 "metadata": {
  "kernelspec": {
   "display_name": "Python 2",
   "language": "python",
   "name": "python2"
  },
  "language_info": {
   "codemirror_mode": {
    "name": "ipython",
    "version": 2
   },
   "file_extension": ".py",
   "mimetype": "text/x-python",
   "name": "python",
   "nbconvert_exporter": "python",
   "pygments_lexer": "ipython2",
   "version": "2.7.12"
  }
 },
 "nbformat": 4,
 "nbformat_minor": 2
}
